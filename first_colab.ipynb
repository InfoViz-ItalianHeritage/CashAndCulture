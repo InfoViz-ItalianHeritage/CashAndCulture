{
  "nbformat": 4,
  "nbformat_minor": 0,
  "metadata": {
    "colab": {
      "provenance": [],
      "authorship_tag": "ABX9TyPGMCRNCU7XDg3j4QW2/xZT",
      "include_colab_link": true
    },
    "kernelspec": {
      "name": "python3",
      "display_name": "Python 3"
    },
    "language_info": {
      "name": "python"
    }
  },
  "cells": [
    {
      "cell_type": "markdown",
      "metadata": {
        "id": "view-in-github",
        "colab_type": "text"
      },
      "source": [
        "<a href=\"https://colab.research.google.com/github/ThIheb/Info_viz/blob/main/first_colab.ipynb\" target=\"_parent\"><img src=\"https://colab.research.google.com/assets/colab-badge.svg\" alt=\"Open In Colab\"/></a>"
      ]
    },
    {
      "cell_type": "code",
      "execution_count": null,
      "metadata": {
        "id": "8R9mkxIalWwp",
        "outputId": "6f25841d-0832-4db5-8550-4e7b78940213",
        "colab": {
          "base_uri": "https://localhost:8080/"
        }
      },
      "outputs": [
        {
          "output_type": "stream",
          "name": "stdout",
          "text": [
            "Error: The file 'ds1.csv' was not found.\n"
          ]
        }
      ],
      "source": [
        "import pandas as pd\n",
        "\n",
        "def get_first_row_data_types(file_path):\n",
        "    try:\n",
        "        # Read only the first row of the CSV file\n",
        "        df = pd.read_csv(file_path, nrows=1)\n",
        "        # Get the data types of the columns\n",
        "        return df.dtypes\n",
        "    except FileNotFoundError:\n",
        "        print(f\"Error: The file '{file_path}' was not found.\")\n",
        "        return None\n",
        "    except Exception as e:\n",
        "        print(f\"An error occurred: {e}\")\n",
        "        return None\n",
        "\n",
        "# --- How to use this script ---\n",
        "\n",
        "# 1. Replace 'your_file.csv' with the actual path to your CSV file.\n",
        "#    For example:\n",
        "#    file_path = 'data.csv'  # if the CSV is in the same folder as your script\n",
        "#    file_path = '/Users/YourName/Documents/my_data.csv' # absolute path for macOS/Linux\n",
        "#    file_path = 'C:\\\\Users\\\\YourName\\\\Documents\\\\my_data.csv' # absolute path for Windows\n",
        "\n",
        "file_path = 'ds1.csv' # <--- CHANGE THIS LINE\n",
        "\n",
        "# 2. Call the function and print the results\n",
        "data_types = get_first_row_data_types(file_path)\n",
        "\n",
        "if data_types is not None:\n",
        "    print(\"Data types of the first row:\")\n",
        "    print(data_types)"
      ]
    }
  ]
}
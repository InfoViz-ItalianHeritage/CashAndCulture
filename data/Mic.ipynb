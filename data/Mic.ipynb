{
 "cells": [
  {
   "cell_type": "code",
   "execution_count": 25,
   "id": "942fb8ae-7919-40ad-9a03-26c159a1fad3",
   "metadata": {},
   "outputs": [],
   "source": [
    "import pandas as pd\n",
    "import os\n",
    "import glob\n",
    "\n",
    "def transform_table(file):\n",
    "    year = os.path.basename(file).split(\"_\")[2]\n",
    "    #detect header of table\n",
    "    with open(file, \"r\", encoding = \"latin-1\") as f:\n",
    "        for i,line in enumerate(f):\n",
    "            if line.startswith(\"Regione\"):\n",
    "                header_row = i\n",
    "                break\n",
    "    visitors = pd.read_csv(file, skiprows = header_row, sep=\";\", encoding=\"latin-1\")\n",
    "    visitors.rename(columns={\"Totale complessivo\":\"Totale_regione\"}, inplace= True) \n",
    "    # set 'Regione' as columns, months as rows\n",
    "    visitors = visitors.set_index(\"Regione\").T\n",
    "    \n",
    "    visitors.dropna(axis=1, how=\"all\", inplace= True)\n",
    "    visitors.dropna(axis=0, how=\"all\", inplace= True)\n",
    "    \n",
    "    # rename the rows to add the year\n",
    "    visitors.index = [f\"{month}_{year}\" for month in visitors.index]\n",
    "\n",
    "    return visitors"
   ]
  },
  {
   "cell_type": "code",
   "execution_count": 28,
   "id": "4e879593-8fd9-4f0b-b54f-a9e2a07783d6",
   "metadata": {},
   "outputs": [],
   "source": [
    "# apply to all visitatori files\n",
    "files = glob.glob(\"musei_tavola5_*_visitatori.csv\")\n",
    "total_visitors = []\n",
    "for f in files:\n",
    "    total_visitors.append(transform_table(f))\n",
    "    \n",
    "# merge along rows\n",
    "output = pd.concat(total_visitors)\n",
    "output.to_csv(\"Mic_visitors.csv\", encoding=\"utf-8\")\n"
   ]
  },
  {
   "cell_type": "code",
   "execution_count": 24,
   "id": "d43bf3f7-1c64-4ce6-a88b-eec535008211",
   "metadata": {},
   "outputs": [
    {
     "data": {
      "text/plain": [
       "np.int64(143)"
      ]
     },
     "execution_count": 24,
     "metadata": {},
     "output_type": "execute_result"
    }
   ],
   "source": [
    "output"
   ]
  }
 ],
 "metadata": {
  "kernelspec": {
   "display_name": "Python 3 (ipykernel)",
   "language": "python",
   "name": "python3"
  },
  "language_info": {
   "codemirror_mode": {
    "name": "ipython",
    "version": 3
   },
   "file_extension": ".py",
   "mimetype": "text/x-python",
   "name": "python",
   "nbconvert_exporter": "python",
   "pygments_lexer": "ipython3",
   "version": "3.13.3"
  }
 },
 "nbformat": 4,
 "nbformat_minor": 5
}

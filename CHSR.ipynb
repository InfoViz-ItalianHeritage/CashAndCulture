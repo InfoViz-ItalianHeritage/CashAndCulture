{
 "cells": [
  {
   "cell_type": "markdown",
   "id": "612dd404-910b-4e95-999b-6aab49a6e671",
   "metadata": {},
   "source": [
    "Trend in the funding policies for italian cultural institutes\n",
    "\n",
    "In Italy every region has different amount of funding and level of participations to cultural things.\n",
    "This project aims to discover how are the public funding distributed in the last 10 years and how the trend of visitors changes through time."
   ]
  },
  {
   "cell_type": "code",
   "execution_count": 5,
   "id": "ac92ed90-f64c-4a06-a371-98d65a91e6f9",
   "metadata": {},
   "outputs": [],
   "source": [
    "import pandas as pd\n",
    "\n",
    "project_20 = pd.read_csv(\"data/progetti_esteso_CULTURA_TURISMO_2014-2020_20250430.csv\", sep=';', low_memory=False)\n",
    "project_20 = project_20[['CUP','DATA_INIZIO_PREV_STUDIO_FATT','OC_DATA_INIZIO_PROGETTO','OC_DATA_FINE_PROGETTO_EFFETTIVA','DEN_REGIONE','DEN_PROVINCIA','DEN_COMUNE','FINANZ_TOTALE_PUBBLICO','FINANZ_STATO_ESTERO','FINANZ_PRIVATO']]\n",
    "project_27 = pd.read_csv(\"data/progetti_esteso_CULTURA_TURISMO_2021-2027_20250430.csv\", sep=';', low_memory=False)\n",
    "project_27 = project_27[['CUP', 'DATA_INIZIO_PREV_STUDIO_FATT','OC_DATA_INIZIO_PROGETTO','OC_DATA_FINE_PROGETTO_EFFETTIVA','DEN_REGIONE','DEN_PROVINCIA','DEN_COMUNE','FINANZ_TOTALE_PUBBLICO','FINANZ_STATO_ESTERO','FINANZ_PRIVATO']]\n",
    "all_projects = pd.concat([project_20, project_27], ignore_index=True)\n",
    "all_projects = all_projects.drop_duplicates(subset=['CUP'], keep='first')"
   ]
  },
  {
   "cell_type": "code",
   "execution_count": 6,
   "id": "8fbee410-69cd-42e2-b70f-0a736db1b7f1",
   "metadata": {},
   "outputs": [],
   "source": [
    "date_columns = ['DATA_INIZIO_PREV_STUDIO_FATT','OC_DATA_INIZIO_PROGETTO','OC_DATA_FINE_PROGETTO_EFFETTIVA']\n",
    "\n",
    "all_projects[date_columns] = (all_projects[date_columns].apply(lambda col: pd.to_datetime(col.astype('Int64').astype(str), format='%Y%m%d', errors='coerce')))\n",
    "\n",
    "all_projects = all_projects.sort_values(by=date_columns, ascending=[True, True, True], na_position='last').reset_index(drop=True)\n",
    "all_projects.to_csv(\"data/open_coesione.csv\", index=False, encoding=\"utf-8\")"
   ]
  },
  {
   "cell_type": "code",
   "execution_count": 7,
   "id": "8865690e-edc5-4e75-b116-033464b4696d",
   "metadata": {},
   "outputs": [],
   "source": [
    "import pandas as pd\n",
    "import os\n",
    "import glob\n",
    "\n",
    "def transform_table(file):\n",
    "    year = os.path.basename(file).split(\"_\")[2]\n",
    "    #detect header of table\n",
    "    with open(file, \"r\", encoding = \"latin-1\") as f:\n",
    "        for i,line in enumerate(f):\n",
    "            if line.startswith(\"Regione\"):\n",
    "                header_row = i\n",
    "                break\n",
    "    visitors = pd.read_csv(file, skiprows = header_row, sep=\";\", encoding=\"latin-1\")\n",
    "    visitors.rename(columns={\"Totale complessivo\":\"Totale_regione\"}, inplace= True) \n",
    "    # set 'Regione' as columns, months as rows\n",
    "    visitors = visitors.set_index(\"Regione\").T\n",
    "    \n",
    "    visitors.dropna(axis=1, how=\"all\", inplace= True)\n",
    "    visitors.dropna(axis=0, how=\"all\", inplace= True)\n",
    "    \n",
    "    # rename the rows to add the year\n",
    "    visitors.index = [f\"{month}_{year}\" for month in visitors.index]\n",
    "\n",
    "    return visitors"
   ]
  },
  {
   "cell_type": "code",
   "execution_count": 8,
   "id": "11bf19f5-653a-4953-bfc7-2aa74c3062c9",
   "metadata": {},
   "outputs": [],
   "source": [
    "# apply to all visitatori files\n",
    "files = glob.glob(\"data/musei_tavola5_*_visitatori.csv\")\n",
    "total_visitors = []\n",
    "for f in files:\n",
    "    total_visitors.append(transform_table(f))\n",
    "    \n",
    "# merge along rows\n",
    "output_visitors = pd.concat(total_visitors)\n",
    "output_visitors.to_csv(\"data/mic_visitors.csv\", encoding=\"utf-8\")\n",
    "\n",
    "# apply to all introiti files\n",
    "tables_income = glob.glob(\"data/musei_tavola5_*_introiti.csv\")\n",
    "total_income = []\n",
    "for i in tables_income:\n",
    "    total_income.append(transform_table(i))\n",
    "    \n",
    "# merge along rows\n",
    "output_income = pd.concat(total_income)\n",
    "output_income.to_csv(\"data/mic_income.csv\", encoding=\"utf-8\")\n"
   ]
  },
  {
   "cell_type": "code",
   "execution_count": null,
   "id": "a5e91a5e-03c4-4fb1-b54b-0fc1e76ef438",
   "metadata": {},
   "outputs": [],
   "source": []
  }
 ],
 "metadata": {
  "kernelspec": {
   "display_name": "Python 3 (ipykernel)",
   "language": "python",
   "name": "python3"
  },
  "language_info": {
   "codemirror_mode": {
    "name": "ipython",
    "version": 3
   },
   "file_extension": ".py",
   "mimetype": "text/x-python",
   "name": "python",
   "nbconvert_exporter": "python",
   "pygments_lexer": "ipython3",
   "version": "3.13.3"
  }
 },
 "nbformat": 4,
 "nbformat_minor": 5
}
